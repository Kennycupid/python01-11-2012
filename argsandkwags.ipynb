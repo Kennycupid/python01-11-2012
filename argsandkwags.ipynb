{
 "cells": [
  {
   "cell_type": "code",
   "execution_count": 1,
   "metadata": {},
   "outputs": [],
   "source": [
    "def add(*number):\n",
    "    print(type(number))\n",
    "    for i in number:\n",
    "        print(i)"
   ]
  },
  {
   "cell_type": "code",
   "execution_count": 2,
   "metadata": {},
   "outputs": [
    {
     "name": "stdout",
     "output_type": "stream",
     "text": [
      "<class 'tuple'>\n",
      "1\n",
      "2\n",
      "2\n",
      "3\n",
      "4\n",
      "5\n",
      "6\n",
      "7\n",
      "8\n",
      "9\n"
     ]
    }
   ],
   "source": [
    "add(1,2,2,3,4,5,6,7,8,9)"
   ]
  },
  {
   "cell_type": "code",
   "execution_count": 5,
   "metadata": {},
   "outputs": [],
   "source": [
    "def add(*number):\n",
    "    print(type(number))\n",
    "    total=0\n",
    "    for i in number:\n",
    "        total = total + i\n",
    "    print(f'the total of all numbers is: {total}')    \n",
    "        "
   ]
  },
  {
   "cell_type": "code",
   "execution_count": 6,
   "metadata": {},
   "outputs": [
    {
     "name": "stdout",
     "output_type": "stream",
     "text": [
      "<class 'tuple'>\n",
      "the total of all numbers is: 47\n"
     ]
    }
   ],
   "source": [
    "add(1,2,2,3,4,5,6,7,8,9)"
   ]
  },
  {
   "cell_type": "code",
   "execution_count": 9,
   "metadata": {},
   "outputs": [],
   "source": [
    "numbers = []\n",
    "counter = 1\n",
    "import random\n",
    "while counter <=30:\n",
    "    num = random.randint(20,40)\n",
    "    numbers.append(num)\n",
    "    counter+=1"
   ]
  },
  {
   "cell_type": "code",
   "execution_count": 10,
   "metadata": {},
   "outputs": [
    {
     "name": "stdout",
     "output_type": "stream",
     "text": [
      "<class 'tuple'>\n",
      "the total of all numbers is: 903\n"
     ]
    }
   ],
   "source": [
    "add(*numbers)"
   ]
  },
  {
   "cell_type": "code",
   "execution_count": 13,
   "metadata": {},
   "outputs": [
    {
     "name": "stdout",
     "output_type": "stream",
     "text": [
      "<class 'dict'>\n",
      "staffId : ad001\n",
      "name : ojo Aina\n",
      "gender : male\n",
      "qualification : msc pub admin\n"
     ]
    }
   ],
   "source": [
    "#kwags\n",
    "def records(**employee):\n",
    "    print(type(employee))\n",
    "    for key,val in employee.items():\n",
    "        print(key, ':', val)\n",
    "records(staffId= 'ad001', name = 'ojo Aina', gender= 'male', qualification= 'msc pub admin')        "
   ]
  },
  {
   "cell_type": "code",
   "execution_count": 15,
   "metadata": {},
   "outputs": [
    {
     "name": "stdout",
     "output_type": "stream",
     "text": [
      "<class 'dict'>\n",
      "staffId : a002\n",
      "gender : female\n",
      "qualification : Bsc mass comm\n"
     ]
    }
   ],
   "source": [
    "employee={\n",
    "    'staffId': 'a002',\n",
    "    'gender' : 'female',\n",
    "    'qualification': 'Bsc mass comm'\n",
    "}\n",
    "records(**employee)"
   ]
  },
  {
   "cell_type": "code",
   "execution_count": 22,
   "metadata": {},
   "outputs": [
    {
     "name": "stdout",
     "output_type": "stream",
     "text": [
      "<class 'dict'>\n",
      "itemId : zd191\n",
      "itemName : peak milk\n",
      "itemGroup : cosumables\n",
      "itemQuantity : 176\n",
      "itemEntryDate : 17th june 2021\n",
      "\n",
      "\n",
      "<class 'dict'>\n",
      "itemId : dh324\n",
      "itemName : milo\n",
      "itemGroup : consumables\n",
      "itemQuantity : 120\n",
      "itemEntryDate : 12th may 2021\n",
      "\n",
      "\n",
      "<class 'dict'>\n",
      "itemId : gb 112\n",
      "itemName : banana\n",
      "itemGroup : perishabe\n",
      "itemQuantity : 100\n",
      "itemEntryDate : 1st septmember 2021\n",
      "\n",
      "\n",
      "<class 'dict'>\n",
      "itemId : mb764\n",
      "itemName : stove\n",
      "itemGroup : non perishable\n",
      "itemQuantity : 137\n",
      "itemEntryDate : 8th, january 2021\n",
      "\n",
      "\n",
      "<class 'dict'>\n",
      "itemId : ty001\n",
      "itemName : spoon\n",
      "itemGroup : non perishable\n",
      "itemQuantity : 120\n",
      "itemEntryDate : 12th may 2021\n"
     ]
    }
   ],
   "source": [
    "def collect(**supermarket):\n",
    "    print(type(supermarket))\n",
    "    for key,val in supermarket.items():\n",
    "        print(key, ':', val)\n",
    "collect(itemId= 'zd191', itemName= 'peak milk', itemGroup= 'cosumables', itemQuantity= 176, itemEntryDate= '17th june 2021')\n",
    "print('\\n')\n",
    "collect(itemId= 'dh324',itemName= 'milo', itemGroup= 'consumables', itemQuantity= 120, itemEntryDate= '12th may 2021')\n",
    "print('\\n')\n",
    "collect(itemId= 'gb 112',itemName= 'banana', itemGroup= 'perishabe', itemQuantity= 100, itemEntryDate= '1st septmember 2021')\n",
    "print('\\n')\n",
    "collect(itemId= 'mb764',itemName= 'stove', itemGroup= 'non perishable', itemQuantity= 137, itemEntryDate= '8th, january 2021')\n",
    "print('\\n')\n",
    "collect(itemId= 'ty001',itemName= 'spoon', itemGroup= 'non perishable', itemQuantity= 120, itemEntryDate= '12th may 2021')\n",
    " "
   ]
  },
  {
   "cell_type": "code",
   "execution_count": null,
   "metadata": {},
   "outputs": [],
   "source": []
  }
 ],
 "metadata": {
  "kernelspec": {
   "display_name": "Python 3",
   "language": "python",
   "name": "python3"
  },
  "language_info": {
   "codemirror_mode": {
    "name": "ipython",
    "version": 3
   },
   "file_extension": ".py",
   "mimetype": "text/x-python",
   "name": "python",
   "nbconvert_exporter": "python",
   "pygments_lexer": "ipython3",
   "version": "3.8.5"
  }
 },
 "nbformat": 4,
 "nbformat_minor": 4
}
