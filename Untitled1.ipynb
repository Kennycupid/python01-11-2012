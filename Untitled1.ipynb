{
 "cells": [
  {
   "cell_type": "code",
   "execution_count": 2,
   "metadata": {},
   "outputs": [],
   "source": [
    "file= open('kenneth.txt', 'w')\n",
    "file.write('''files\n",
    "my name is kenneth, i come from calabar.\n",
    "i'm rich and influencial and i'm working towards being a programmer\n",
    "''')\n",
    "file.close()"
   ]
  },
  {
   "cell_type": "code",
   "execution_count": 3,
   "metadata": {},
   "outputs": [
    {
     "name": "stdout",
     "output_type": "stream",
     "text": [
      "print('hello world')\n",
      "whole_number= 7\n",
      "decimal_number= 5\n",
      "course= 'python'\n",
      "y= 'false'\n",
      "print(whole_number)\n",
      "print(decimal_number)\n",
      "print(course)\n",
      "print(y)\n",
      "word= 'we\\'re brothers from the other side of the town'\n",
      "print(word)\n",
      "poem='oh beloved nigeria,\\nfor long has thou told us we are leaders of tomorrow.\\nNow gray hair elude us with your promises yet unfulfilled'\n",
      "print(poem)\n",
      "print('\\n')\n",
      "poem2= '''oh beloved nigeria\n",
      "for long has thou told us we are leaders of tomorrow\n",
      "now gray elude us with your promises yet unfulfilled\n",
      "'''\n",
      "print(poem2)\n",
      "print('Lagos'+ ' '+ 'state') #joining of string and string\n",
      "print('hey', course, 'is fun') #joining of variable and string\n",
      "Sur_name= 'Agu'\n",
      "Last_name= 'kenneth'\n",
      "print(Sur_name, Last_name)\n",
      "\n"
     ]
    }
   ],
   "source": [
    "file1= open('day1.py', 'r')\n",
    "print(file1.read())\n",
    "file.close()"
   ]
  },
  {
   "cell_type": "code",
   "execution_count": 4,
   "metadata": {},
   "outputs": [],
   "source": [
    "file2= open('kenneth.txt', 'a')\n",
    "file2.write('\\nPython is fun, easy to use and has a very friendly interface')\n",
    "file2.close()"
   ]
  },
  {
   "cell_type": "code",
   "execution_count": 5,
   "metadata": {},
   "outputs": [],
   "source": [
    "file3= open('kenneth.txt', 'r+')\n",
    "file3.write('''\\nBelow are the content in python\n",
    "1. syntax\n",
    "2. variables\n",
    "3. data types\n",
    "4. iterable objects\n",
    "5. operators\n",
    "6. control flow operations\n",
    "''')\n",
    "file.close()"
   ]
  },
  {
   "cell_type": "code",
   "execution_count": 10,
   "metadata": {},
   "outputs": [],
   "source": [
    "manager= open('guest_list.doc', 'w')\n",
    "manager.write('''\\nNames of Guests                         time of arrival\n",
    "1. Agu kenneth                          16:45\n",
    "2. Jennifer Ezeroah                     16:48\n",
    "3. Princess jason                       17:02\n",
    "4. Kingsley James                       17:20\n",
    "5. James Jack                           17:30\n",
    "''')\n",
    "manager.close()\n"
   ]
  },
  {
   "cell_type": "code",
   "execution_count": 19,
   "metadata": {},
   "outputs": [
    {
     "name": "stdout",
     "output_type": "stream",
     "text": [
      "you have encountered one or more errors\n"
     ]
    },
    {
     "ename": "NameError",
     "evalue": "name 'words' is not defined",
     "output_type": "error",
     "traceback": [
      "\u001b[1;31m---------------------------------------------------------------------------\u001b[0m",
      "\u001b[1;31mNameError\u001b[0m                                 Traceback (most recent call last)",
      "\u001b[1;32m<ipython-input-19-dfa3578a8a2c>\u001b[0m in \u001b[0;36m<module>\u001b[1;34m\u001b[0m\n\u001b[0;32m     16\u001b[0m             \u001b[0mlarge\u001b[0m\u001b[1;33m=\u001b[0m \u001b[0mword\u001b[0m\u001b[1;33m\u001b[0m\u001b[1;33m\u001b[0m\u001b[0m\n\u001b[0;32m     17\u001b[0m \u001b[1;32mfinally\u001b[0m\u001b[1;33m:\u001b[0m\u001b[1;33m\u001b[0m\u001b[1;33m\u001b[0m\u001b[0m\n\u001b[1;32m---> 18\u001b[1;33m     \u001b[0mprint\u001b[0m\u001b[1;33m(\u001b[0m\u001b[1;34m'the largest word is'\u001b[0m\u001b[1;33m,\u001b[0m \u001b[0mwords\u001b[0m\u001b[1;33m[\u001b[0m\u001b[0mlarge\u001b[0m\u001b[1;33m]\u001b[0m\u001b[1;33m)\u001b[0m\u001b[1;33m\u001b[0m\u001b[1;33m\u001b[0m\u001b[0m\n\u001b[0m\u001b[0;32m     19\u001b[0m     \u001b[0mprint\u001b[0m\u001b[1;33m(\u001b[0m\u001b[1;34m'the smallest word is'\u001b[0m\u001b[1;33m,\u001b[0m \u001b[0mwords\u001b[0m\u001b[1;33m[\u001b[0m\u001b[0msmall\u001b[0m\u001b[1;33m]\u001b[0m\u001b[1;33m)\u001b[0m\u001b[1;33m\u001b[0m\u001b[1;33m\u001b[0m\u001b[0m\n\u001b[0;32m     20\u001b[0m \u001b[1;33m\u001b[0m\u001b[0m\n",
      "\u001b[1;31mNameError\u001b[0m: name 'words' is not defined"
     ]
    }
   ],
   "source": [
    "try:\n",
    "    content= open('kenneth.txt', 'r')\n",
    "    content= file.read()             \n",
    "    words= content.split()\n",
    "except FileNotFoundError:\n",
    "    print('the file you are trying to read does not exist')\n",
    "except:\n",
    "    print('you have encountered one or more errors')\n",
    "else:\n",
    "    small= large = len(words[0])\n",
    "    for i in range(0,len(words)):\n",
    "        word =len(words[i])\n",
    "        if word<= small:\n",
    "            small = word\n",
    "        if word>= large:\n",
    "            large= word\n",
    "finally:\n",
    "    print('the largest word is', words[large])\n",
    "    print('the smallest word is', words[small])\n",
    "    "
   ]
  },
  {
   "cell_type": "code",
   "execution_count": null,
   "metadata": {},
   "outputs": [],
   "source": []
  }
 ],
 "metadata": {
  "kernelspec": {
   "display_name": "Python 3",
   "language": "python",
   "name": "python3"
  },
  "language_info": {
   "codemirror_mode": {
    "name": "ipython",
    "version": 3
   },
   "file_extension": ".py",
   "mimetype": "text/x-python",
   "name": "python",
   "nbconvert_exporter": "python",
   "pygments_lexer": "ipython3",
   "version": "3.8.5"
  }
 },
 "nbformat": 4,
 "nbformat_minor": 4
}
