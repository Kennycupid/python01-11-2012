{
 "cells": [
  {
   "cell_type": "markdown",
   "metadata": {},
   "source": [
    "# Define what is a class\n",
    "# Describe how to create a class\n",
    "# Define what is a method\n",
    "# Describe how to do object instantiation\n",
    "# Describe how to create instance attributes in Python\n",
    "# A class is a code template for creating objects. Objects have member variables and have behaviour associated with them. In python a class is created by the keyword class.\n",
    "\n",
    "# An object is created using the constructor of the class. This object will then be called the instance of the class.\n",
    "# Attributes  are setting the Functionalities  of the class\n",
    "# once there are attributes that “belong” to the class, you can define functions that will access the class attribute. These functions are called methods"
   ]
  },
  {
   "cell_type": "code",
   "execution_count": 1,
   "metadata": {},
   "outputs": [],
   "source": [
    "class bird:\n",
    "    attr1 = 'Eagle'\n",
    "    attr2 = 'Bird'\n",
    "ob = bird()"
   ]
  },
  {
   "cell_type": "code",
   "execution_count": 2,
   "metadata": {},
   "outputs": [
    {
     "data": {
      "text/plain": [
       "'Eagle'"
      ]
     },
     "execution_count": 2,
     "metadata": {},
     "output_type": "execute_result"
    }
   ],
   "source": [
    "ob.attr1"
   ]
  },
  {
   "cell_type": "code",
   "execution_count": 3,
   "metadata": {},
   "outputs": [
    {
     "data": {
      "text/plain": [
       "'Bird'"
      ]
     },
     "execution_count": 3,
     "metadata": {},
     "output_type": "execute_result"
    }
   ],
   "source": [
    "ob.attr2"
   ]
  },
  {
   "cell_type": "code",
   "execution_count": 8,
   "metadata": {},
   "outputs": [],
   "source": [
    "class bird:\n",
    "    attr1 = 'Eagle'\n",
    "    attr2 = 'Bird'\n",
    "    def nameOB(self):\n",
    "        print(f'the name of the bird is {self.attr1}')\n",
    "    def kingdom(self):\n",
    "        print(f'{self.attr1} belongs to the family of {self.attr2}')\n",
    "ob = bird()"
   ]
  },
  {
   "cell_type": "code",
   "execution_count": 9,
   "metadata": {},
   "outputs": [
    {
     "name": "stdout",
     "output_type": "stream",
     "text": [
      "the name of the bird is Eagle\n",
      "None\n",
      "Eagle belongs to the family of Bird\n",
      "None\n"
     ]
    }
   ],
   "source": [
    "print(ob.nameOB())\n",
    "print(ob.kingdom())"
   ]
  },
  {
   "cell_type": "code",
   "execution_count": 10,
   "metadata": {},
   "outputs": [
    {
     "name": "stdout",
     "output_type": "stream",
     "text": [
      "Mercedes Benz A6 has started\n",
      "None\n",
      "Choose a gear:4\n",
      "Gear has been changed to gear 4\n",
      "None\n",
      "Choose a gear:1\n",
      "Nitro Engaged\n",
      "None\n",
      "Mercedes Benz A6 has stoped\n",
      "None\n"
     ]
    }
   ],
   "source": [
    "class nfs:\n",
    "    def __init__(self,Brand,Model,Color,year,speed):\n",
    "        self.Brand = Brand\n",
    "        self.Model = Model\n",
    "        self.Color = Color\n",
    "        self.year = year\n",
    "        self.speed = speed\n",
    "    def start(self):\n",
    "        print(f'{self.Brand} {self.Model} has started')\n",
    "    def gear_brake(self):\n",
    "        choice = int(input('Choose a gear:'))\n",
    "        if choice == 1:\n",
    "            print('Gear has been changed to gear 1')\n",
    "        elif choice == 2:\n",
    "            print('Gear has been changed to gear 2')\n",
    "        elif choice == 3:\n",
    "            print('Gear has been changed to gear 3')\n",
    "        elif choice == 4:\n",
    "            print('Gear has been changed to gear 4')\n",
    "        elif choice == 5:\n",
    "            print('Gear has been changed to gear 5')\n",
    "        elif choice == 6:\n",
    "            print('Gear has been changed to reverse')\n",
    "        elif choice == 7:\n",
    "            print('Brake has been engaged')\n",
    "        else:\n",
    "            print('invalid option')\n",
    "    def nitro(self):\n",
    "        choice = int(input('Choose a nitro option:'))\n",
    "        if choice == 1:\n",
    "            print('Nitro Engaged')\n",
    "        elif choice == 2:\n",
    "            print('Nitro Disengaged')\n",
    "        else:\n",
    "            print('invalid option')\n",
    "    def stop(self):\n",
    "        print(f'{self.Brand} {self.Model} has stoped')\n",
    "car1 =nfs('Mercedes Benz', 'A6', 'Black',2020,300)\n",
    "print(car1.start())\n",
    "print(car1.gear_brake())\n",
    "print(car1.nitro())\n",
    "print(car1.stop())"
   ]
  },
  {
   "cell_type": "code",
   "execution_count": 13,
   "metadata": {},
   "outputs": [
    {
     "name": "stdout",
     "output_type": "stream",
     "text": [
      "Lambogini Gallardo has started\n",
      "None\n",
      "Choose a gear:5\n",
      "Gear has been changed to gear 5\n",
      "None\n",
      "Choose a gear:2\n",
      "Nitro Disengaged\n",
      "None\n",
      "Lambogini Gallardo has stoped\n",
      "None\n"
     ]
    }
   ],
   "source": [
    "class game(nfs):\n",
    "    def opentrunk(self):\n",
    "        choice = int(input('Choose a opentrunk option:'))\n",
    "        if choice == 1:\n",
    "            print('Trunk opened')\n",
    "        elif choice == 2:\n",
    "            print('Trunk closed')\n",
    "        else:\n",
    "            print('invalid option')\n",
    "\n",
    "car2 =game('Lambogini', 'Gallardo', 'Black',2021,450)\n",
    "print(car2.start())\n",
    "print(car2.gear_brake())\n",
    "print(car2.nitro())\n",
    "print(car2.stop())"
   ]
  },
  {
   "cell_type": "code",
   "execution_count": 14,
   "metadata": {},
   "outputs": [
    {
     "ename": "AttributeError",
     "evalue": "'nfs' object has no attribute 'opentrunk'",
     "output_type": "error",
     "traceback": [
      "\u001b[1;31m---------------------------------------------------------------------------\u001b[0m",
      "\u001b[1;31mAttributeError\u001b[0m                            Traceback (most recent call last)",
      "\u001b[1;32m<ipython-input-14-3cb3827345d8>\u001b[0m in \u001b[0;36m<module>\u001b[1;34m\u001b[0m\n\u001b[1;32m----> 1\u001b[1;33m \u001b[0mcar1\u001b[0m\u001b[1;33m.\u001b[0m\u001b[0mopentrunk\u001b[0m\u001b[1;33m(\u001b[0m\u001b[1;33m)\u001b[0m\u001b[1;33m\u001b[0m\u001b[1;33m\u001b[0m\u001b[0m\n\u001b[0m",
      "\u001b[1;31mAttributeError\u001b[0m: 'nfs' object has no attribute 'opentrunk'"
     ]
    }
   ],
   "source": [
    "car1.opentrunk()"
   ]
  },
  {
   "cell_type": "code",
   "execution_count": null,
   "metadata": {},
   "outputs": [],
   "source": []
  }
 ],
 "metadata": {
  "kernelspec": {
   "display_name": "Python 3",
   "language": "python",
   "name": "python3"
  },
  "language_info": {
   "codemirror_mode": {
    "name": "ipython",
    "version": 3
   },
   "file_extension": ".py",
   "mimetype": "text/x-python",
   "name": "python",
   "nbconvert_exporter": "python",
   "pygments_lexer": "ipython3",
   "version": "3.8.5"
  }
 },
 "nbformat": 4,
 "nbformat_minor": 4
}
