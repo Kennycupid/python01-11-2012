{
 "cells": [
  {
   "cell_type": "code",
   "execution_count": 6,
   "metadata": {},
   "outputs": [],
   "source": [
    "admin={\n",
    "    'admin1':['okoro101', 'codeofschool'],\n",
    "    'admin2':['jane20', 'peopleofpeople']\n",
    "}\n",
    "car_details={\n",
    "    \n",
    "}\n",
    "def check_admin():\n",
    "    admin_key= input('enter your id number\\')\n",
    "    username= admin_key[0]\n",
    "    password= admin_key[1]                 \n",
    "    for i in admin.keys():\n",
    "        if i == admin_key and i[0]== admin_key[0] and i[1]== admin_key[1]:\n",
    "            print('valid user proceed to the dashboard')\n",
    "            break         \n",
    "        else:\n",
    "            print('invalid user')\n",
    "def addcar():\n",
    "    car_details[input('car ID')]=[input('car brand:'), input('car model:'), input('car colour:'), input('plate number:'), int(input('year released'))]\n",
    "#def modifycar():\n",
    "    #key=input('please provide car id:')\n",
    "    #for i in car_details.keys():\n",
    "    #if i==\n",
    "def searchcar():\n",
    "    for key,val in car_details.items()\n",
    "    print(key ':' val)\n",
    "def displaycar    \n",
    "    key=input('please provide car id:')\n",
    "    for i in car_details.keys():\n",
    "    if i== key:\n",
    "        print(i)\n",
    "    else:\n",
    "        print('not available')\n",
    "def main():\n",
    "      print('''\n",
    "add car\n",
    "display car\n",
    "search car\n",
    "''') \n",
    "    choice= int(input('choose your operation:'))\n",
    "    if                 \n",
    "        "
   ]
  },
  {
   "cell_type": "code",
   "execution_count": 7,
   "metadata": {},
   "outputs": [
    {
     "name": "stdin",
     "output_type": "stream",
     "text": [
      "car brand: mercedes benz\n",
      "car model: GLK\n",
      "car colour: white\n",
      "plate number: TR258TRY\n",
      "year released 2018\n",
      "car ID A001\n"
     ]
    }
   ],
   "source": [
    "addcar()"
   ]
  },
  {
   "cell_type": "code",
   "execution_count": 9,
   "metadata": {},
   "outputs": [
    {
     "data": {
      "text/plain": [
       "{'A001': ['mercedes benz', 'GLK', 'white', 'TR258TRY', 2018]}"
      ]
     },
     "execution_count": 9,
     "metadata": {},
     "output_type": "execute_result"
    }
   ],
   "source": [
    "car_details #alternative for print()"
   ]
  },
  {
   "cell_type": "code",
   "execution_count": 11,
   "metadata": {},
   "outputs": [
    {
     "ename": "NameError",
     "evalue": "name 'Check_admin' is not defined",
     "output_type": "error",
     "traceback": [
      "\u001b[1;31m---------------------------------------------------------------------------\u001b[0m",
      "\u001b[1;31mNameError\u001b[0m                                 Traceback (most recent call last)",
      "\u001b[1;32m<ipython-input-11-63d2e95d9ab0>\u001b[0m in \u001b[0;36m<module>\u001b[1;34m\u001b[0m\n\u001b[1;32m----> 1\u001b[1;33m \u001b[0mCheck_admin\u001b[0m\u001b[1;33m(\u001b[0m\u001b[1;33m)\u001b[0m\u001b[1;33m\u001b[0m\u001b[1;33m\u001b[0m\u001b[0m\n\u001b[0m",
      "\u001b[1;31mNameError\u001b[0m: name 'Check_admin' is not defined"
     ]
    }
   ],
   "source": [
    "Check_admin()"
   ]
  },
  {
   "cell_type": "code",
   "execution_count": null,
   "metadata": {},
   "outputs": [],
   "source": []
  }
 ],
 "metadata": {
  "kernelspec": {
   "display_name": "Python 3",
   "language": "python",
   "name": "python3"
  },
  "language_info": {
   "codemirror_mode": {
    "name": "ipython",
    "version": 3
   },
   "file_extension": ".py",
   "mimetype": "text/x-python",
   "name": "python",
   "nbconvert_exporter": "python",
   "pygments_lexer": "ipython3",
   "version": "3.8.5"
  }
 },
 "nbformat": 4,
 "nbformat_minor": 4
}
