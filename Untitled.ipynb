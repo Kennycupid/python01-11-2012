{
 "cells": [
  {
   "cell_type": "code",
   "execution_count": 3,
   "metadata": {},
   "outputs": [
    {
     "name": "stdin",
     "output_type": "stream",
     "text": [
      "enter your birthday: 17th_june_2009\n"
     ]
    },
    {
     "name": "stdout",
     "output_type": "stream",
     "text": [
      "As you turn a year older today, may the host of heavens grant you your heart desires, Amen\n",
      "you are not on the list\n"
     ]
    }
   ],
   "source": [
    "My_friends= {\n",
    "        '17th_june_2009': ['Amanda'],\n",
    "        '14th_feb _1992': ['kenneth'],\n",
    "        '7th_june_1993': ['agu'],\n",
    "        '4th_july_1987': ['manny'],\n",
    "        '18_march_1997': ['jennifer']\n",
    "}\n",
    "your_birthday= input('enter your birthday:')\n",
    "for i in My_friends:\n",
    "    if i== your_birthday:\n",
    "     print('As you turn a year older today, may the host of heavens grant you your heart desires, Amen')\n",
    "else:\n",
    "    print('you are not on the list')"
   ]
  },
  {
   "cell_type": "code",
   "execution_count": null,
   "metadata": {},
   "outputs": [],
   "source": []
  }
 ],
 "metadata": {
  "kernelspec": {
   "display_name": "Python 3",
   "language": "python",
   "name": "python3"
  },
  "language_info": {
   "codemirror_mode": {
    "name": "ipython",
    "version": 3
   },
   "file_extension": ".py",
   "mimetype": "text/x-python",
   "name": "python",
   "nbconvert_exporter": "python",
   "pygments_lexer": "ipython3",
   "version": "3.8.5"
  }
 },
 "nbformat": 4,
 "nbformat_minor": 4
}
