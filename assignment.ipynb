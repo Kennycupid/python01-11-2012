{
 "cells": [
  {
   "cell_type": "markdown",
   "metadata": {},
   "source": [
    "DEPLOYMENT OF NEW STAFF TO THEIR PPA"
   ]
  },
  {
   "cell_type": "code",
   "execution_count": 147,
   "metadata": {},
   "outputs": [
    {
     "name": "stdin",
     "output_type": "stream",
     "text": [
      "age: 34\n",
      "gender: female\n",
      "marital status: single\n"
     ]
    },
    {
     "name": "stdout",
     "output_type": "stream",
     "text": [
      "you are retained\n",
      "retain at the head office\n"
     ]
    }
   ],
   "source": [
    "D_age=35\n",
    "D_gender1=('male')\n",
    "D_gender2=('female')\n",
    "D_marital_status1=('married')\n",
    "D_marital_status2=('singele')\n",
    "Actual_age=int(input('age:'))\n",
    "Actual_gender=input('gender:')\n",
    "Actual_marital_status=input('marital status:')\n",
    "if Actual_gender==D_gender2:\n",
    "    Actual_marital_status==D_marital_status1\n",
    "    print('you are retained')\n",
    "elif Actual_gender==D_gender2:\n",
    "    Actual_marital_status==D_marital_status2\n",
    "    Actual_age<=D_age\n",
    "    print('you are transfered to another state')\n",
    "elif Actual_gender==D_gender1:\n",
    "    Actual_marital_status==D_marital_status2\n",
    "    print('you are transfered to another state')\n",
    "elif Actual_gender==D_gender1:\n",
    "    Actual_marital_status==D_marital_status1\n",
    "    Actual_age<=D_age\n",
    "    print('you are transfered to ogun state, your welfare is taken care of')\n",
    "elif Actual_marital_status==D_marital_status1:\n",
    "     Actual_age>=D_age\n",
    "print('retain at the head office')\n",
    "        "
   ]
  },
  {
   "cell_type": "code",
   "execution_count": null,
   "metadata": {},
   "outputs": [],
   "source": []
  },
  {
   "cell_type": "code",
   "execution_count": null,
   "metadata": {},
   "outputs": [],
   "source": []
  }
 ],
 "metadata": {
  "kernelspec": {
   "display_name": "Python 3",
   "language": "python",
   "name": "python3"
  },
  "language_info": {
   "codemirror_mode": {
    "name": "ipython",
    "version": 3
   },
   "file_extension": ".py",
   "mimetype": "text/x-python",
   "name": "python",
   "nbconvert_exporter": "python",
   "pygments_lexer": "ipython3",
   "version": "3.8.5"
  }
 },
 "nbformat": 4,
 "nbformat_minor": 4
}
