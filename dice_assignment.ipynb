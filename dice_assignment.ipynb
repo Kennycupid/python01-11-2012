{
 "cells": [
  {
   "cell_type": "code",
   "execution_count": null,
   "metadata": {},
   "outputs": [],
   "source": []
  },
  {
   "cell_type": "code",
   "execution_count": 8,
   "metadata": {},
   "outputs": [
    {
     "name": "stdin",
     "output_type": "stream",
     "text": [
      "Enter your name: agu\n",
      "Enter your name: kenneth\n"
     ]
    },
    {
     "name": "stdout",
     "output_type": "stream",
     "text": [
      "agu is the winner and the dice number is 6\n",
      "The dice number of the loser is 5\n",
      "The total score of agu is 6\n",
      "The total score of kenneth is 5\n",
      "kenneth is the winner and the dice number is 5\n",
      "The dice number of the loser is 1\n",
      "The total score of kenneth is 10\n",
      "The total score of agu is 7\n",
      "kenneth is the winner and the dice number is 5\n",
      "The dice number of the loser is 3\n",
      "The total score of kenneth is 15\n",
      "The total score of agu is 10\n",
      "agu is the winner and the dice number is 5\n",
      "The dice number of the loser is 2\n",
      "The total score of agu is 15\n",
      "The total score of kenneth is 17\n",
      "agu is the winner and the dice number is 6\n",
      "The dice number of the loser is 1\n",
      "The total score of agu is 21\n",
      "The total score of kenneth is 18\n",
      "agu is the overall winner and the total point is 21\n"
     ]
    }
   ],
   "source": [
    "import random\n",
    "def dice_game():\n",
    "    player1 = input('Enter your name:')\n",
    "    player2 = input('Enter your name:')\n",
    "    counter = 1\n",
    "    score1 = 0\n",
    "    score2 =0\n",
    "    while counter <=5:\n",
    "        dice1 = random.randint(1,6)\n",
    "        dice2 = random.randint(1,6)\n",
    "        if dice1 > dice2:\n",
    "            print(f'{player1} is the winner and the dice number is {dice1}')\n",
    "            print(f'The dice number of the loser is {dice2}')\n",
    "            score1 = score1 + dice1\n",
    "            score2  = score2 + dice2\n",
    "            print(f'The total score of {player1} is {score1}')\n",
    "            print(f'The total score of {player2} is {score2}')\n",
    "        elif dice1 == dice2:\n",
    "            print(f'{player1} and {player2} are tied and the dice number is {dice1}')\n",
    "            score1 = score1 + dice1\n",
    "            score2 = score2 + dice2\n",
    "            print(f'the total score of {player1} is {score1}')\n",
    "            print(f'the total score of {player2} is {score2}')\n",
    "            \n",
    "            \n",
    "        else:\n",
    "            print(f'{player2} is the winner and the dice number is {dice2}')\n",
    "            print(f'The dice number of the loser is {dice1}')\n",
    "            score1 = score1 + dice1\n",
    "            score2  = score2 + dice2\n",
    "            print(f'The total score of {player2} is {score2}')\n",
    "            print(f'The total score of {player1} is {score1}')\n",
    "        counter +=1\n",
    "    if score1 > score2:\n",
    "        print(f'{player1} is the overall winner and the total point is {score1}')\n",
    "    else:\n",
    "         print(f'{player2} is the overall winner and the total point is {score2}')\n",
    "dice_game()"
   ]
  },
  {
   "cell_type": "code",
   "execution_count": null,
   "metadata": {},
   "outputs": [],
   "source": []
  }
 ],
 "metadata": {
  "kernelspec": {
   "display_name": "Python 3",
   "language": "python",
   "name": "python3"
  },
  "language_info": {
   "codemirror_mode": {
    "name": "ipython",
    "version": 3
   },
   "file_extension": ".py",
   "mimetype": "text/x-python",
   "name": "python",
   "nbconvert_exporter": "python",
   "pygments_lexer": "ipython3",
   "version": "3.8.5"
  }
 },
 "nbformat": 4,
 "nbformat_minor": 4
}
