{
 "cells": [
  {
   "cell_type": "code",
   "execution_count": 5,
   "metadata": {},
   "outputs": [
    {
     "name": "stdin",
     "output_type": "stream",
     "text": [
      "Name: kenneth\n",
      "English score: 79\n",
      "Maths score: 89\n",
      "Chemistry score: 96\n",
      "Physics score: 78\n",
      "Agric score: 88\n",
      "Biology score: 87\n",
      "Geography score: 97\n",
      "Economis score: 69\n"
     ]
    },
    {
     "name": "stdout",
     "output_type": "stream",
     "text": [
      "your grade is A\n"
     ]
    }
   ],
   "source": [
    "Name_of_student=input('Name:')\n",
    "English= int(input('English score:'))\n",
    "Maths= int(input('Maths score:'))\n",
    "Chemistry=int(input('Chemistry score:'))\n",
    "Physics=int(input('Physics score:'))\n",
    "Agric=int(input('Agric score:'))\n",
    "Biology=int(input('Biology score:'))\n",
    "Geography=int(input('Geography score:'))\n",
    "Economics=int(input('Economis score:'))\n",
    "Total_score= English+Maths+Chemistry+Physics+Agric+Biology+Geography+Economics\n",
    "Average= Total_score//8\n",
    "if Average >=80 and Average <=100:\n",
    "    print('your grade is A')\n",
    "elif Average >=70 and Average <= 79:\n",
    "    print('your score is B')\n",
    "elif Average >=50 and Average <=69:\n",
    "    print('your score is C')\n",
    "elif Average >=40 and Average <=49 :\n",
    "    print('your score is D')\n",
    "elif Average >=30 and Average >=39:\n",
    "    print('your score is F')\n"
   ]
  },
  {
   "cell_type": "code",
   "execution_count": null,
   "metadata": {},
   "outputs": [],
   "source": []
  }
 ],
 "metadata": {
  "kernelspec": {
   "display_name": "Python 3",
   "language": "python",
   "name": "python3"
  },
  "language_info": {
   "codemirror_mode": {
    "name": "ipython",
    "version": 3
   },
   "file_extension": ".py",
   "mimetype": "text/x-python",
   "name": "python",
   "nbconvert_exporter": "python",
   "pygments_lexer": "ipython3",
   "version": "3.8.5"
  }
 },
 "nbformat": 4,
 "nbformat_minor": 4
}
