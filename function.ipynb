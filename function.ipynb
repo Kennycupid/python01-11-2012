{
 "cells": [
  {
   "cell_type": "code",
   "execution_count": 1,
   "metadata": {},
   "outputs": [
    {
     "name": "stdin",
     "output_type": "stream",
     "text": [
      "please enter your name: name\n"
     ]
    }
   ],
   "source": [
    "name=input('please enter your name:') #global variable\n",
    "def greet():\n",
    "    name=input('please enter your name') #local variable"
   ]
  },
  {
   "cell_type": "code",
   "execution_count": 2,
   "metadata": {},
   "outputs": [],
   "source": [
    "def greet():\n",
    "    print('hey welcome to python class')"
   ]
  },
  {
   "cell_type": "code",
   "execution_count": 3,
   "metadata": {},
   "outputs": [
    {
     "name": "stdout",
     "output_type": "stream",
     "text": [
      "hey welcome to python class\n"
     ]
    }
   ],
   "source": [
    "greet() #function without a parameter or argument"
   ]
  },
  {
   "cell_type": "code",
   "execution_count": 7,
   "metadata": {},
   "outputs": [],
   "source": [
    "def greet2(name): #function with a parameter of name\n",
    "    print(f'hey {name} welcome to python class')"
   ]
  },
  {
   "cell_type": "code",
   "execution_count": 8,
   "metadata": {},
   "outputs": [
    {
     "name": "stdout",
     "output_type": "stream",
     "text": [
      "hey kenneth welcome to python class\n"
     ]
    }
   ],
   "source": [
    "greet2('kenneth')"
   ]
  },
  {
   "cell_type": "code",
   "execution_count": 12,
   "metadata": {},
   "outputs": [
    {
     "name": "stdout",
     "output_type": "stream",
     "text": [
      "my name is simeon\n",
      "my age is 28\n"
     ]
    }
   ],
   "source": [
    "def person(name, gender, age):\n",
    "    print(f'my name is {name}')\n",
    "    print(f'i am a {gender}' and f'my age is {age}')\n",
    "person('simeon', 'male', 28)    \n"
   ]
  },
  {
   "cell_type": "code",
   "execution_count": 13,
   "metadata": {},
   "outputs": [
    {
     "name": "stdout",
     "output_type": "stream",
     "text": [
      "my name is simeon\n",
      "my age is 28\n",
      "congratulation you are eligible to vote\n"
     ]
    }
   ],
   "source": [
    "def person(name, gender, age=18):\n",
    "    print(f'my name is {name}')\n",
    "    print(f'i am a {gender}' and f'my age is {age}')\n",
    "    if age>=18:\n",
    "        print('congratulation you are eligible to vote')\n",
    "    else:\n",
    "        print('hey sorry you are not eligible to vote wait till you are 18 years')\n",
    "person('simeon', 'male', 28)    "
   ]
  },
  {
   "cell_type": "code",
   "execution_count": 18,
   "metadata": {},
   "outputs": [
    {
     "name": "stdin",
     "output_type": "stream",
     "text": [
      "enter your password: kenman360\n"
     ]
    },
    {
     "name": "stdout",
     "output_type": "stream",
     "text": [
      "make sure your password has a capital letter\n"
     ]
    },
    {
     "name": "stdin",
     "output_type": "stream",
     "text": [
      "enter your password: Kenman360\n"
     ]
    },
    {
     "name": "stdout",
     "output_type": "stream",
     "text": [
      "your password is correct\n"
     ]
    }
   ],
   "source": [
    "import re\n",
    "def validate():\n",
    "    while True:\n",
    "        password= input('enter your password:')\n",
    "        if len(password)<8:\n",
    "            print('your password must be 8 and above')\n",
    "        elif re.search('[0-9]', password) is None:\n",
    "            print('make sure your password has a digit')\n",
    "        elif re.search('[A-Z]', password) is None:\n",
    "            print('make sure your password has a capital letter')\n",
    "        else:\n",
    "            print('your password is correct')\n",
    "            break\n",
    "validate()        \n",
    "        \n",
    "    "
   ]
  },
  {
   "cell_type": "code",
   "execution_count": 19,
   "metadata": {},
   "outputs": [
    {
     "name": "stdout",
     "output_type": "stream",
     "text": [
      "my name is simeon\n",
      "my age is 28\n",
      "congratulation you are eligible to vote\n"
     ]
    }
   ],
   "source": [
    "def person(name, gender, age=18):\n",
    "    print(f'my name is {name}')\n",
    "    print(f'i am a {gender}' and f'my age is {age}')\n",
    "    if age>=18:\n",
    "        print('congratulation you are eligible to vote')\n",
    "    else:\n",
    "        print('hey sorry you are not eligible to vote wait till you are 18 years')\n",
    "person(name='simeon', gender='male', age=28)    "
   ]
  },
  {
   "cell_type": "code",
   "execution_count": null,
   "metadata": {},
   "outputs": [],
   "source": []
  }
 ],
 "metadata": {
  "kernelspec": {
   "display_name": "Python 3",
   "language": "python",
   "name": "python3"
  },
  "language_info": {
   "codemirror_mode": {
    "name": "ipython",
    "version": 3
   },
   "file_extension": ".py",
   "mimetype": "text/x-python",
   "name": "python",
   "nbconvert_exporter": "python",
   "pygments_lexer": "ipython3",
   "version": "3.8.5"
  }
 },
 "nbformat": 4,
 "nbformat_minor": 4
}
