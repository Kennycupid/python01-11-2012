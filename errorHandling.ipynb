{
 "cells": [
  {
   "cell_type": "code",
   "execution_count": 1,
   "metadata": {},
   "outputs": [],
   "source": [
    "#Error handling\n"
   ]
  },
  {
   "cell_type": "code",
   "execution_count": null,
   "metadata": {},
   "outputs": [],
   "source": []
  },
  {
   "cell_type": "code",
   "execution_count": null,
   "metadata": {},
   "outputs": [],
   "source": []
  },
  {
   "cell_type": "code",
   "execution_count": 2,
   "metadata": {},
   "outputs": [],
   "source": [
    "#try\n",
    "#except\n",
    "#else\n",
    "#finally"
   ]
  },
  {
   "cell_type": "code",
   "execution_count": 3,
   "metadata": {},
   "outputs": [
    {
     "name": "stdin",
     "output_type": "stream",
     "text": [
      "enter the first number: 1.5\n"
     ]
    },
    {
     "name": "stdout",
     "output_type": "stream",
     "text": [
      "you have encountered one or more error\n"
     ]
    }
   ],
   "source": [
    "try:\n",
    "    num1= int(input('enter the first number:'))\n",
    "    num2=  int(input('enter the second number:'))\n",
    "    print(num1/num2)\n",
    "except:\n",
    "    print('you have encountered one or more error')"
   ]
  },
  {
   "cell_type": "code",
   "execution_count": 4,
   "metadata": {},
   "outputs": [
    {
     "name": "stdin",
     "output_type": "stream",
     "text": [
      "enter the first number: 10\n",
      "enter the second number: 40\n"
     ]
    },
    {
     "name": "stdout",
     "output_type": "stream",
     "text": [
      "0.25\n"
     ]
    }
   ],
   "source": [
    "try:\n",
    "    num1= int(input('enter the first number:'))\n",
    "    num2=  int(input('enter the second number:'))\n",
    "    print(num1/num2)\n",
    "except ValueError:\n",
    "    print('you have entered a wrong value, whole number is required')\n",
    "except ZeroDivisionError:\n",
    "    print('you cannot divide this number by zero')\n",
    "except:\n",
    "    print('you have encountered one or more errors')"
   ]
  },
  {
   "cell_type": "code",
   "execution_count": 6,
   "metadata": {},
   "outputs": [
    {
     "name": "stdin",
     "output_type": "stream",
     "text": [
      "enter the first number: 10\n",
      "enter the second number: 50\n",
      "choose an operation (+,-,/,*): +\n"
     ]
    },
    {
     "name": "stdout",
     "output_type": "stream",
     "text": [
      "10 + 50 =60\n",
      "10 is an even number\n",
      "end of program\n"
     ]
    }
   ],
   "source": [
    "try:\n",
    "    num1= int(input('enter the first number:'))\n",
    "    num2=  int(input('enter the second number:'))\n",
    "    choice= input('choose an operation (+,-,/,*):')\n",
    "    if choice== '+':\n",
    "        print(f'{num1} + {num2} ={num1 + num2}')\n",
    "    elif choice== '-':\n",
    "        print(f'{num1} - {num2} ={num1 - num2}')\n",
    "    elif choice== '/':\n",
    "        print(f'{num1} / {num2} ={num1 / num2}')\n",
    "                            \n",
    "    elif choice== '*':\n",
    "         print(f'{num1} * {num2} ={num1 * num2}')\n",
    "    else:\n",
    "        print('invalid operation')\n",
    "            \n",
    "except ValueError:\n",
    "    print('you have entered a wrong value, whole number is required')\n",
    "except ZeroDivisionError:\n",
    "    print('you cannot divide this number by zero')\n",
    "except:\n",
    "    print('you have encountered one or more errors')\n",
    "else:\n",
    "    if num1 % 2== 0:\n",
    "            print(f'{num1} is an even number')\n",
    "    else:\n",
    "        print(f'{num1} is an odd number')\n",
    "finally:\n",
    "    print('end of program')"
   ]
  },
  {
   "cell_type": "code",
   "execution_count": 9,
   "metadata": {},
   "outputs": [
    {
     "name": "stdin",
     "output_type": "stream",
     "text": [
      "choose your row: 2\n"
     ]
    },
    {
     "name": "stdout",
     "output_type": "stream",
     "text": [
      "you are to be served swallow of your choice\n",
      "Thank you for patronizing us, enjoy your meal\n",
      "End of program\n"
     ]
    }
   ],
   "source": [
    "try:\n",
    "    choice= int(input('choose your row:'))\n",
    "    if choice== 1:\n",
    "        print('you are to be served rice or jeffof rice')\n",
    "    elif choice== 2:\n",
    "        print('you are to be served swallow of your choice')\n",
    "    elif choice==3:\n",
    "        print('you are to be served snacks of your choice')\n",
    "    elif choice==4:\n",
    "        print('you are to be served pepper soup of your choice')\n",
    "except ValueError:\n",
    "    print('you entered a wrong value plesea enter a whole number')\n",
    "except TypeError:\n",
    "    print('you made an invalid selection')\n",
    "else:\n",
    "    print('Thank you for patronizing us, enjoy your meal')\n",
    "finally:\n",
    "    print('End of program')\n",
    "    \n",
    "    "
   ]
  },
  {
   "cell_type": "code",
   "execution_count": 1,
   "metadata": {},
   "outputs": [
    {
     "name": "stdout",
     "output_type": "stream",
     "text": [
      "enter your choice of transaction:AO\n",
      "welcome to our account opening department, please which Account would you like to open\n",
      "thank you for banking with us\n",
      "please enter your feedbackI enjoyed myself\n",
      "End of program\n"
     ]
    }
   ],
   "source": [
    "try:\n",
    "    Customer_service= 'CS'\n",
    "    Account_openning= 'AO'\n",
    "    Renewal_of_ATM= 'RA'\n",
    "    Deposit='DP'\n",
    "    Withdrawal= 'WA'\n",
    "    Choice= input('enter your choice of transaction:')\n",
    "    if Choice== 'CS':\n",
    "        print('welcome to our customer service unit, please kindly wait for your turn')\n",
    "    elif Choice== 'AO':\n",
    "        print('welcome to our account opening department, please which Account would you like to open')\n",
    "    elif Choice== 'RA':\n",
    "        print('please kindly input your choice of transaction')\n",
    "    elif Choice== 'DP':\n",
    "        print('please kindly input how much you want to deposit')\n",
    "    elif Choice== 'WA':\n",
    "        print('please kindly input how much you want to withdraw')\n",
    "    else:\n",
    "        print('invalid trasaction')\n",
    "except NameError:\n",
    "    print('you have entered a name incorrectly, kindly check and make correction')\n",
    "except TypeError:\n",
    "    print('you have made an ivalid selection')\n",
    "except ValueError:\n",
    "    print('you have entered a wrong value, please check and make corrections')   \n",
    "else:\n",
    "    print('thank you for banking with us')\n",
    "    feedback= input('please enter your feedback')\n",
    "finally:\n",
    "    print('End of program')\n"
   ]
  },
  {
   "cell_type": "code",
   "execution_count": null,
   "metadata": {},
   "outputs": [],
   "source": []
  }
 ],
 "metadata": {
  "kernelspec": {
   "display_name": "Python 3",
   "language": "python",
   "name": "python3"
  },
  "language_info": {
   "codemirror_mode": {
    "name": "ipython",
    "version": 3
   },
   "file_extension": ".py",
   "mimetype": "text/x-python",
   "name": "python",
   "nbconvert_exporter": "python",
   "pygments_lexer": "ipython3",
   "version": "3.8.5"
  }
 },
 "nbformat": 4,
 "nbformat_minor": 4
}
